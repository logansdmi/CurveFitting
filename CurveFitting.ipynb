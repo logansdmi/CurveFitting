{
  "nbformat": 4,
  "nbformat_minor": 0,
  "metadata": {
    "colab": {
      "name": "CurveFitting.ipynb",
      "provenance": [],
      "collapsed_sections": [],
      "authorship_tag": "ABX9TyO0f6B+YvlJkRrH+earNsyl",
      "include_colab_link": true
    },
    "kernelspec": {
      "name": "python3",
      "display_name": "Python 3"
    }
  },
  "cells": [
    {
      "cell_type": "markdown",
      "metadata": {
        "id": "view-in-github",
        "colab_type": "text"
      },
      "source": [
        "<a href=\"https://colab.research.google.com/github/logansdmi/CurveFitting/blob/main/CurveFitting.ipynb\" target=\"_parent\"><img src=\"https://colab.research.google.com/assets/colab-badge.svg\" alt=\"Open In Colab\"/></a>"
      ]
    },
    {
      "cell_type": "code",
      "metadata": {
        "id": "yA8U5-zOdXU-",
        "outputId": "73113128-9219-4465-8619-4c06cf05d9fd",
        "colab": {
          "base_uri": "https://localhost:8080/",
          "height": 34
        }
      },
      "source": [
        "#imports relevant libraries\n",
        "import numpy as np \n",
        "import matplotlib.pyplot as plt \n",
        "import matplotlib.style \n",
        "import matplotlib as mpl \n",
        "\n",
        "\n",
        "def polyModelWithNoise(x,theta,sigma):\n",
        "  ''' inputs : x - array of x values, theta - an array of parameters of the polynomial, sigma - standard deviation of noise applied\n",
        "  outputs:y(x) the sum of the parameter times the x values which are raised to the order of polynomial ''' \n",
        "  yValues = np.array([])\n",
        "  y = np.array([])\n",
        "  for j in range(len(x)):\n",
        "    noise = np.random.normal(0, sigma)\n",
        "    for i in range(len(theta)):\n",
        "      yValues = np.append(yValues,theta[i]*(x[j]**(i+1)))\n",
        "    y = np.append(y,np.sum(yValues)) + noise\n",
        "  \n",
        "  return y\n",
        "\n",
        "theta = np.array([-1, 2, 3])\n",
        "x = np.array([1,2])\n",
        "\n",
        "polyModelWithNoise(x,theta,0.5)\n",
        "\n"
      ],
      "execution_count": 61,
      "outputs": [
        {
          "output_type": "execute_result",
          "data": {
            "text/plain": [
              "array([ 4.92656481, 34.5574429 ])"
            ]
          },
          "metadata": {
            "tags": []
          },
          "execution_count": 61
        }
      ]
    },
    {
      "cell_type": "code",
      "metadata": {
        "id": "dxWQu_8_66zI"
      },
      "source": [
        ""
      ],
      "execution_count": null,
      "outputs": []
    }
  ]
}