{
  "nbformat": 4,
  "nbformat_minor": 0,
  "metadata": {
    "colab": {
      "name": "CurveFitting.ipynb",
      "provenance": [],
      "authorship_tag": "ABX9TyNrh1FYd68LvgJAifim8fms",
      "include_colab_link": true
    },
    "kernelspec": {
      "name": "python3",
      "display_name": "Python 3"
    }
  },
  "cells": [
    {
      "cell_type": "markdown",
      "metadata": {
        "id": "view-in-github",
        "colab_type": "text"
      },
      "source": [
        "<a href=\"https://colab.research.google.com/github/logansdmi/CurveFitting/blob/main/CurveFitting.ipynb\" target=\"_parent\"><img src=\"https://colab.research.google.com/assets/colab-badge.svg\" alt=\"Open In Colab\"/></a>"
      ]
    },
    {
      "cell_type": "code",
      "metadata": {
        "id": "yA8U5-zOdXU-"
      },
      "source": [
        "#imports relevant libraries\n",
        "import numpy as np \n",
        "import matplotlib.pyplot as plt \n",
        "import matplotlib.style \n",
        "import matplotlib as mpl \n",
        "\n",
        "\n",
        "def polyModelWithNoise(x,theta,sigma):\n",
        "  "
      ],
      "execution_count": null,
      "outputs": []
    }
  ]
}