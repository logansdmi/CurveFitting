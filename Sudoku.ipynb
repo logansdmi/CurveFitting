{
  "nbformat": 4,
  "nbformat_minor": 0,
  "metadata": {
    "colab": {
      "name": "Sudoku.ipynb",
      "provenance": [],
      "authorship_tag": "ABX9TyM+ys9bATGt6LD9/N5FqcXo",
      "include_colab_link": true
    },
    "kernelspec": {
      "name": "python3",
      "display_name": "Python 3"
    }
  },
  "cells": [
    {
      "cell_type": "markdown",
      "metadata": {
        "id": "view-in-github",
        "colab_type": "text"
      },
      "source": [
        "<a href=\"https://colab.research.google.com/github/logansdmi/CurveFitting/blob/main/Sudoku.ipynb\" target=\"_parent\"><img src=\"https://colab.research.google.com/assets/colab-badge.svg\" alt=\"Open In Colab\"/></a>"
      ]
    },
    {
      "cell_type": "markdown",
      "metadata": {
        "id": "4X0UK5TUbeIE"
      },
      "source": [
        "## Sudoku solver ##"
      ]
    },
    {
      "cell_type": "markdown",
      "metadata": {
        "id": "eLy9ScMXIwHG"
      },
      "source": [
        "This uses a recursive backtracking algorithm to try new values in a sudoku problem."
      ]
    },
    {
      "cell_type": "code",
      "metadata": {
        "id": "c8iAV2PWbc8u"
      },
      "source": [
        "import numpy as np\n",
        "import time\n",
        "\n",
        "\n",
        "def rules(y,x,attempt,problem):\n",
        "  #global problem\n",
        "  '''inputs: y,x - positions in the matrix, attempt - the number attemping to be fitted into problem,\n",
        "  problem - matrix of numbers representign a sudoku problem\n",
        "  outputs - true or false depending if the attempt fits the position'''\n",
        "  # testing if attempt can fit in a row\n",
        "  for i in range(9):\n",
        "    if problem[i][x] == attempt:\n",
        "      return False\n",
        "  # testing of attempt can fit in a column\n",
        "  for i in range(9):\n",
        "    if problem[y][i] == attempt:\n",
        "      return False\n",
        "  # testing if the attempt can fit into the 3x3 boxes\n",
        "  xBox = 3 * (x//3)\n",
        "  yBox = 3 * (y//3)\n",
        "  for i in range(3):\n",
        "    for j in range(3):\n",
        "      if problem[yBox + i][xBox + j] == attempt:\n",
        "        return False\n",
        "  return True \n",
        "\n",
        "def solver(problem):\n",
        "  '''input: problem - matrix representing the sudoku problem\n",
        "  output - the solved problem in matrix form'''\n",
        "  # loops through all x and y values\n",
        "  for y in range(9):\n",
        "    for x in range(9):\n",
        "      # checks if the position is empty\n",
        "      if problem[y][x] == 0:\n",
        "        for attempt in range(1,10): # loops through each attempt posible\n",
        "          if rules(y,x,attempt,problem): # checks if attempt is possible\n",
        "            problem[y][x] = attempt # puts the attempt into the problem\n",
        "            # the problem is solved again with the new value in but if it does not lead to a solution the attempt is removed and a new one is tried\n",
        "            solver(problem) \n",
        "            problem[y][x] = 0\n",
        "        return \n",
        "  # prints solved problem and allows user to try another solution\n",
        "  print(np.matrix(problem))\n",
        "  return\n",
        "  #input('Another solution?[press enter]')\n",
        "    \n"
      ],
      "execution_count": 1,
      "outputs": []
    },
    {
      "cell_type": "code",
      "metadata": {
        "id": "uzPOqXpPgRK8",
        "outputId": "867d42c1-d5c7-4500-dc5d-7161d9c4395c",
        "colab": {
          "base_uri": "https://localhost:8080/"
        }
      },
      "source": [
        "problem1 = [\n",
        "    [7, 8, 0, 4, 0, 0, 1, 2, 0],\n",
        "    [6, 0, 0, 0, 7, 5, 0, 0, 9],\n",
        "    [0, 0, 0, 6, 0, 1, 0, 7, 8],\n",
        "    [0, 0, 7, 0, 4, 0, 2, 6, 0],\n",
        "    [0, 0, 1, 0, 5, 0, 9, 3, 0],\n",
        "    [9, 0, 4, 0, 6, 0, 0, 0, 5],\n",
        "    [0, 7, 0, 3, 0, 0, 0, 1, 2],\n",
        "    [1, 2, 0, 0, 0, 7, 4, 0, 0],\n",
        "    [0, 4, 9, 2, 0, 6, 0, 0, 7]\n",
        "]\n",
        "problem2 = [\n",
        "    [8, 0, 0, 0, 0, 0, 0, 0, 0],\n",
        "    [0, 0, 3, 6, 0, 0, 0, 0, 0],\n",
        "    [0, 7, 0, 0, 9, 0, 2, 0, 0],\n",
        "    [0, 5, 0, 0, 0, 7, 0, 0, 0],\n",
        "    [0, 0, 0, 0, 4, 5, 7, 0, 0],\n",
        "    [0, 0, 0, 1, 0, 0, 0, 3, 0],\n",
        "    [0, 0, 1, 0, 0, 0, 0, 6, 8],\n",
        "    [0, 0, 8, 5, 0, 0, 0, 1, 0],\n",
        "    [0, 9, 0, 0, 0, 0, 4, 0, 0]\n",
        "]\n",
        "#print(np.matrix(problem1))\n"
      ],
      "execution_count": 2,
      "outputs": [
        {
          "output_type": "stream",
          "text": [
            "[[7 8 0 4 0 0 1 2 0]\n",
            " [6 0 0 0 7 5 0 0 9]\n",
            " [0 0 0 6 0 1 0 7 8]\n",
            " [0 0 7 0 4 0 2 6 0]\n",
            " [0 0 1 0 5 0 9 3 0]\n",
            " [9 0 4 0 6 0 0 0 5]\n",
            " [0 7 0 3 0 0 0 1 2]\n",
            " [1 2 0 0 0 7 4 0 0]\n",
            " [0 4 9 2 0 6 0 0 7]]\n"
          ],
          "name": "stdout"
        }
      ]
    },
    {
      "cell_type": "code",
      "metadata": {
        "id": "WB15fdMGgZ0A",
        "outputId": "d0c0884a-6c31-4d6c-81b4-03690fc75871",
        "colab": {
          "base_uri": "https://localhost:8080/"
        }
      },
      "source": [
        "\n",
        "solver(problem2)\n"
      ],
      "execution_count": 3,
      "outputs": [
        {
          "output_type": "stream",
          "text": [
            "[[8 1 2 7 5 3 6 4 9]\n",
            " [9 4 3 6 8 2 1 7 5]\n",
            " [6 7 5 4 9 1 2 8 3]\n",
            " [1 5 4 2 3 7 8 9 6]\n",
            " [3 6 9 8 4 5 7 2 1]\n",
            " [2 8 7 1 6 9 5 3 4]\n",
            " [5 2 1 9 7 4 3 6 8]\n",
            " [4 3 8 5 2 6 9 1 7]\n",
            " [7 9 6 3 1 8 4 5 2]]\n",
            "time elapsed: 29.278582334518433\n"
          ],
          "name": "stdout"
        }
      ]
    },
    {
      "cell_type": "code",
      "metadata": {
        "id": "hsdQG-hphETE"
      },
      "source": [
        "\n",
        "\n",
        "\n",
        "\n",
        "\n",
        "\n"
      ],
      "execution_count": 3,
      "outputs": []
    }
  ]
}